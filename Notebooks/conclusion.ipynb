{
 "cells": [
  {
   "cell_type": "markdown",
   "metadata": {},
   "source": [
    "Based on the performance metrics provided, let's compare the three models:\n",
    "\n",
    "ResNet50\n",
    "Accuracy: 0.1118\n",
    "mAP (mean Average Precision): 0.1049\n",
    "Inference Time: 8 seconds (180ms/step)\n",
    "DenseNet121\n",
    "Accuracy: 0.1215\n",
    "mAP: 0.1051\n",
    "Inference Time: 12 seconds (243ms/step)\n",
    "MobileNetv3\n",
    "Accuracy: 0.1103\n",
    "mAP: 0.0992\n",
    "Inference Time: 9 seconds (190ms/step)\n",
    "Analysis\n",
    "Accuracy:\n",
    "\n",
    "DenseNet121 has the highest accuracy (0.1215).\n",
    "ResNet50 follows (0.1118).\n",
    "MobileNetv3 has the lowest accuracy (0.1103).\n",
    "mAP:\n",
    "\n",
    "DenseNet121 has the highest mAP (0.1051).\n",
    "ResNet50 follows closely (0.1049).\n",
    "MobileNetv3 has the lowest mAP (0.0992).\n",
    "Inference Time:\n",
    "\n",
    "ResNet50 has the fastest inference time (8 seconds).\n",
    "MobileNetv3 is slightly slower (9 seconds).\n",
    "DenseNet121 is the slowest (12 seconds).\n",
    "\n",
    "### Conclusion\n",
    "\n",
    "DenseNet121 is the best model in terms of accuracy and mAP, although it is the slowest in inference time. If accuracy and mAP are your primary concerns, DenseNet121 is the better choice.\n",
    "\n",
    "ResNet50 is a good compromise between accuracy, mAP, and inference time. It has the second-best accuracy and mAP, with the fastest inference time, making it a balanced option if you need quicker predictions.\n",
    "\n",
    "MobileNetv3 has the lowest accuracy and mAP, but its inference time is reasonable. It might be suitable if model size and resource efficiency are critical, though it's less optimal in performance metrics compared to the other two.\n",
    "\n",
    "Overall, DenseNet121 is recommended for the best performance metrics, while ResNet50 is a solid choice for a balance between speed and performance."
   ]
  }
 ],
 "metadata": {
  "language_info": {
   "name": "python"
  }
 },
 "nbformat": 4,
 "nbformat_minor": 2
}
